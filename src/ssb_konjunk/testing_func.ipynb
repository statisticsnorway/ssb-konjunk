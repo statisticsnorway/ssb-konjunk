{
 "cells": [
  {
   "cell_type": "code",
   "execution_count": null,
   "id": "0",
   "metadata": {
    "tags": []
   },
   "outputs": [],
   "source": [
    "from saving import get_saved_file\n",
    "import pandas as pd\n",
    "import dapla\n",
    "from dapla import FileClient"
   ]
  },
  {
   "cell_type": "code",
   "execution_count": null,
   "id": "1",
   "metadata": {
    "tags": []
   },
   "outputs": [],
   "source": [
    "a = get_saved_file((2022,3,1,2023,12, 31), 'D', 'test-data', datatilstand='inndata', \n",
    "                   bucket_statistikk='gs://ssb-reiseliv-korttid-data-produkt-prod/overnatting', \n",
    "                   version_number = 2, fs = FileClient.get_gcs_file_system())\n"
   ]
  },
  {
   "cell_type": "code",
   "execution_count": null,
   "id": "2",
   "metadata": {
    "tags": []
   },
   "outputs": [],
   "source": [
    "a = get_saved_file((2022,3,1,2023,12, 31), 'D', 'test-data', datatilstand='inndata', \n",
    "                   bucket_statistikk='gs://ssb-reiseliv-korttid-data-produkt-prod/overnatting', \n",
    "                   version_number = 1, fs = FileClient.get_gcs_file_system())\n",
    "a"
   ]
  },
  {
   "cell_type": "code",
   "execution_count": null,
   "id": "3",
   "metadata": {
    "tags": []
   },
   "outputs": [],
   "source": [
    "vdcs"
   ]
  },
  {
   "cell_type": "code",
   "execution_count": null,
   "id": "4",
   "metadata": {
    "tags": []
   },
   "outputs": [],
   "source": [
    "import dapla as dp\n",
    "import pandas as pd\n",
    "import numpy as np\n",
    "\n",
    "# Set path to folder\n",
    "bucket = \"gs://ssb-reiseliv-korttid-data-produkt-prod\"\n",
    "folder = \"overnatting/inndata\"\n",
    "\n",
    "# Create pandas dataframe\n",
    "purchases = pd.DataFrame(np.random.randn(10, 5),\n",
    "                        columns=[\"A\", \"b\", \"C\", \"D\", \"E\"])\n",
    "\n",
    "# Write pandas dataframe as parquet to GCS bucket\n",
    "dp.write_pandas(df = purchases,\n",
    "                gcs_path = f\"{bucket}/{folder}/test-data_p2022-03-01_p2023-12-31_v1.parquet\",\n",
    "                file_format = \"parquet\",)"
   ]
  },
  {
   "cell_type": "code",
   "execution_count": null,
   "id": "5",
   "metadata": {},
   "outputs": [],
   "source": []
  }
 ],
 "metadata": {
  "language_info": {
   "codemirror_mode": {
    "name": "ipython"
   },
   "file_extension": ".py",
   "mimetype": "text/x-python",
   "name": "python",
   "nbconvert_exporter": "python"
  }
 },
 "nbformat": 4,
 "nbformat_minor": 5
}
